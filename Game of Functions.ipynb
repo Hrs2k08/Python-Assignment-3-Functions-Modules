{
 "cells": [
  {
   "cell_type": "code",
   "execution_count": 3,
   "id": "e26fbff7",
   "metadata": {},
   "outputs": [
    {
     "name": "stdout",
     "output_type": "stream",
     "text": [
      "Enter a list of numbers:1 4 6 8 10\n",
      "Sum of numbers in the list is: 29\n"
     ]
    }
   ],
   "source": [
    "# Write a Python function to sum all the numbers in a list.\n",
    "\n",
    "list1=input(\"Enter a list of numbers:\")\n",
    "list_range=list1.split()\n",
    "\n",
    "total=0                         #Default value is set to 0 so the sum can be calculated\n",
    "for num in list_range:\n",
    "    total+= int(num)\n",
    "\n",
    "print(\"Sum of numbers in the list is:\",total)"
   ]
  },
  {
   "cell_type": "code",
   "execution_count": null,
   "id": "234f9f48",
   "metadata": {},
   "outputs": [],
   "source": []
  },
  {
   "cell_type": "code",
   "execution_count": null,
   "id": "25a3d29c",
   "metadata": {},
   "outputs": [],
   "source": []
  },
  {
   "cell_type": "code",
   "execution_count": null,
   "id": "a7ac8f13",
   "metadata": {},
   "outputs": [],
   "source": []
  }
 ],
 "metadata": {
  "kernelspec": {
   "display_name": "Python 3 (ipykernel)",
   "language": "python",
   "name": "python3"
  },
  "language_info": {
   "codemirror_mode": {
    "name": "ipython",
    "version": 3
   },
   "file_extension": ".py",
   "mimetype": "text/x-python",
   "name": "python",
   "nbconvert_exporter": "python",
   "pygments_lexer": "ipython3",
   "version": "3.9.12"
  }
 },
 "nbformat": 4,
 "nbformat_minor": 5
}
