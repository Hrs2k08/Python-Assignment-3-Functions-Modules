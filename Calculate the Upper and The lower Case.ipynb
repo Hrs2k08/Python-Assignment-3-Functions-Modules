{
 "cells": [
  {
   "cell_type": "code",
   "execution_count": 16,
   "id": "c91b3d26",
   "metadata": {},
   "outputs": [
    {
     "name": "stdout",
     "output_type": "stream",
     "text": [
      "Enter a string of letters:Hi Have A Good Day\n",
      "Number of lowercase letters: 9\n",
      "Number of uppercase letters: 5\n"
     ]
    }
   ],
   "source": [
    "#Write a Python function that accepts a string and calculate the number of upper case letters and lower case letters\n",
    "\n",
    "string=input(\"Enter a string of letters:\")\n",
    "lower_case=0\n",
    "upper_case=0\n",
    "for i in string:\n",
    "    if(i.islower()):\n",
    "        lower_case+=1\n",
    "    elif(i.isupper()):\n",
    "        upper_case+=1\n",
    "        \n",
    "print(\"Number of lowercase letters:\",lower_case)\n",
    "print(\"Number of uppercase letters:\",upper_case)"
   ]
  },
  {
   "cell_type": "code",
   "execution_count": null,
   "id": "c80be260",
   "metadata": {},
   "outputs": [],
   "source": []
  },
  {
   "cell_type": "code",
   "execution_count": null,
   "id": "f69ca990",
   "metadata": {},
   "outputs": [],
   "source": []
  }
 ],
 "metadata": {
  "kernelspec": {
   "display_name": "Python 3 (ipykernel)",
   "language": "python",
   "name": "python3"
  },
  "language_info": {
   "codemirror_mode": {
    "name": "ipython",
    "version": 3
   },
   "file_extension": ".py",
   "mimetype": "text/x-python",
   "name": "python",
   "nbconvert_exporter": "python",
   "pygments_lexer": "ipython3",
   "version": "3.9.12"
  }
 },
 "nbformat": 4,
 "nbformat_minor": 5
}
